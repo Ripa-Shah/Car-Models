{
 "cells": [
  {
   "cell_type": "code",
   "execution_count": 2,
   "id": "flexible-perth",
   "metadata": {},
   "outputs": [],
   "source": [
    "game=[[0,0,0],\n",
    "     [0,0,0],\n",
    "     [0,0,0]]\n",
    "def game_board(game_map, player=0, row=0, column=0, just_display=False):\n",
    "    try:\n",
    "        print(\"0 1 2 \")\n",
    "        if not just_display:\n",
    "            game_map[row][column]=player\n",
    "            for count, row in enumerate(game_map):\n",
    "                print(count,row)\n",
    "            return game_map\n",
    "    except IndexError:\n",
    "        print(\"Did you attempt to play a row or column outside the range of 0,1 or 2? (IndexError)\")\n",
    "        return False\n",
    "    except Exception as e:\n",
    "        print(str(e))\n",
    "        return False\n"
   ]
  },
  {
   "cell_type": "code",
   "execution_count": 3,
   "id": "objective-savings",
   "metadata": {},
   "outputs": [],
   "source": [
    "game=[[1,1,1],\n",
    "     [0,2,0],\n",
    "     [2,2,0]]\n",
    "\n",
    "def win(current_game):\n",
    "    for row in game:\n",
    "        print(row)\n",
    "        col1=row[0]\n",
    "        col2=row[1]\n",
    "        col3=row[2]\n",
    "        \n",
    "        if col1 == col2 == col3:\n",
    "            print(\"winner!!\")"
   ]
  },
  {
   "cell_type": "code",
   "execution_count": 5,
   "id": "domestic-willow",
   "metadata": {},
   "outputs": [],
   "source": [
    "game = [[1,1,1],\n",
    "       [0,2,0],\n",
    "       [2,2,0]]\n",
    "def win(current_game):\n",
    "    for row in game:\n",
    "        print(row)\n",
    "        all_match=True\n",
    "        for item in row:\n",
    "            if item != row[0]:\n",
    "                all_match=False\n",
    "            if not all_match:\n",
    "                print(\"Winner\")\n",
    "            \n",
    "        "
   ]
  },
  {
   "cell_type": "code",
   "execution_count": 11,
   "id": "roman-imaging",
   "metadata": {},
   "outputs": [
    {
     "name": "stdout",
     "output_type": "stream",
     "text": [
      "0\n",
      "1\n",
      "2\n",
      "3\n",
      "4\n"
     ]
    }
   ],
   "source": [
    "for i in range(5):\n",
    "    print(i)"
   ]
  },
  {
   "cell_type": "code",
   "execution_count": 7,
   "id": "reverse-recovery",
   "metadata": {},
   "outputs": [
    {
     "data": {
      "text/plain": [
       "range(5, 10)"
      ]
     },
     "execution_count": 7,
     "metadata": {},
     "output_type": "execute_result"
    }
   ],
   "source": [
    "range(5,10)"
   ]
  },
  {
   "cell_type": "code",
   "execution_count": 9,
   "id": "engaged-index",
   "metadata": {},
   "outputs": [
    {
     "name": "stdout",
     "output_type": "stream",
     "text": [
      "0\n",
      "3\n",
      "6\n",
      "9\n"
     ]
    }
   ],
   "source": [
    "for i in range(0,10,3):\n",
    "    print(i)"
   ]
  },
  {
   "cell_type": "code",
   "execution_count": 10,
   "id": "affected-logistics",
   "metadata": {},
   "outputs": [
    {
     "name": "stdout",
     "output_type": "stream",
     "text": [
      "-10\n",
      "-40\n",
      "-70\n"
     ]
    }
   ],
   "source": [
    "for i in range(-10,-100,-30):\n",
    "    print(i)"
   ]
  },
  {
   "cell_type": "code",
   "execution_count": 13,
   "id": "sunrise-delight",
   "metadata": {},
   "outputs": [
    {
     "name": "stdout",
     "output_type": "stream",
     "text": [
      "0 Mary\n",
      "1 had\n",
      "2 a\n",
      "3 little\n",
      "4 lamb\n"
     ]
    }
   ],
   "source": [
    "a = ['Mary', 'had', 'a', 'little', 'lamb']\n",
    "for i in range(len(a)):\n",
    "    print(i, a[i])"
   ]
  },
  {
   "cell_type": "code",
   "execution_count": 14,
   "id": "broken-cambodia",
   "metadata": {},
   "outputs": [
    {
     "data": {
      "text/plain": [
       "[0, 1, 2, 3]"
      ]
     },
     "execution_count": 14,
     "metadata": {},
     "output_type": "execute_result"
    }
   ],
   "source": [
    "list(range(4))"
   ]
  },
  {
   "cell_type": "code",
   "execution_count": 15,
   "id": "alive-steam",
   "metadata": {},
   "outputs": [
    {
     "name": "stdout",
     "output_type": "stream",
     "text": [
      "3 is a prime number\n",
      "4 equals 2 * 2\n",
      "5 is a prime number\n",
      "5 is a prime number\n",
      "5 is a prime number\n",
      "6 equals 2 * 3\n",
      "7 is a prime number\n",
      "7 is a prime number\n",
      "7 is a prime number\n",
      "7 is a prime number\n",
      "7 is a prime number\n",
      "8 equals 2 * 4\n",
      "9 is a prime number\n",
      "9 equals 3 * 3\n"
     ]
    }
   ],
   "source": [
    "for n in range(2,10):\n",
    "    for x in range(2,n):\n",
    "        if n%x==0:\n",
    "            print(n,\"equals\",x,\"*\",n//x)\n",
    "            break\n",
    "        else:\n",
    "            print(n,\"is a prime number\")\n",
    "        "
   ]
  },
  {
   "cell_type": "code",
   "execution_count": 16,
   "id": "efficient-monaco",
   "metadata": {},
   "outputs": [
    {
     "name": "stdout",
     "output_type": "stream",
     "text": [
      "found an even number 2\n",
      "found an odd number 3\n",
      "found an even number 4\n",
      "found an odd number 5\n",
      "found an even number 6\n",
      "found an odd number 7\n",
      "found an even number 8\n",
      "found an odd number 9\n"
     ]
    }
   ],
   "source": [
    "for num in range(2,10):\n",
    "    if num % 2 == 0:\n",
    "        print(\"found an even number\",num)\n",
    "        continue\n",
    "        \n",
    "    print(\"found an odd number\",num)\n",
    "    "
   ]
  },
  {
   "cell_type": "code",
   "execution_count": null,
   "id": "veterinary-chosen",
   "metadata": {},
   "outputs": [],
   "source": []
  }
 ],
 "metadata": {
  "kernelspec": {
   "display_name": "Python 3",
   "language": "python",
   "name": "python3"
  },
  "language_info": {
   "codemirror_mode": {
    "name": "ipython",
    "version": 3
   },
   "file_extension": ".py",
   "mimetype": "text/x-python",
   "name": "python",
   "nbconvert_exporter": "python",
   "pygments_lexer": "ipython3",
   "version": "3.9.2"
  }
 },
 "nbformat": 4,
 "nbformat_minor": 5
}
